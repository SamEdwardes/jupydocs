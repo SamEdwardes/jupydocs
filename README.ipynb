{
 "cells": [
  {
   "cell_type": "markdown",
   "metadata": {},
   "source": [
    "![jupydocs_logo](https://github.com/SamEdwardes/jupydocs/raw/main/website/static/img/jupydocs_logo_text.png)\n",
    "\n",
    "[![Netlify Status](https://api.netlify.com/api/v1/badges/6bc56cde-7bc0-492e-a357-7d2ca05004a3/deploy-status)](https://app.netlify.com/sites/jupydocs/deploys)\n",
    "\n",
    "The easiest way to document your python library with jupyter and markdown.\n",
    "\n",
    "- [GitHub](https://github.com/SamEdwardes/jupydocs)\n",
    "- [docs](https://jupydocs.netlify.app/)\n",
    "- [PyPi](https://pypi.org/project/jupydocs/)\n",
    "\n",
    "```\n",
    "Pleaes note jupydocs is currently under active development. \n",
    "It can be used for testing, but should not be used for deployment. \n",
    "It will change!\n",
    "```\n",
    "\n",
    "\n",
    "## Installation\n",
    "\n",
    "```bash\n",
    "pip install jupydocs\n",
    "```"
   ]
  },
  {
   "cell_type": "markdown",
   "metadata": {},
   "source": [
    "## Quickstart"
   ]
  },
  {
   "cell_type": "code",
   "execution_count": null,
   "metadata": {},
   "outputs": [],
   "source": [
    "from jupydocs.numpydocstring import NumpyDocString\n",
    "\n",
    "def custom_sum(x, y):\n",
    "    \"\"\"A new take on the class `sum` function.\n",
    "    \n",
    "    Does 1 + 1 always need to equal 2? Not anymore! Thanks to the `custom_sum`\n",
    "    function 1 + 1 will never equal 2 again.\n",
    "\n",
    "    Parameters\n",
    "    ----------\n",
    "    x : float\n",
    "        A number.\n",
    "    y : float\n",
    "        A number.\n",
    "\n",
    "    Returns\n",
    "    -------\n",
    "    num : Float\n",
    "        A new take on the traditional sum function. x * 2 + y * 3. Not at all\n",
    "        useful. But fun!\n",
    "        \n",
    "    Example\n",
    "    -------\n",
    "    >>> from examplepackage.example import custom_sum\n",
    "    >>> custom_sum(2, 3)\n",
    "    13    \n",
    "    \"\"\"\n",
    "    return x * 2 + y * 3\n",
    "\n",
    "docstring = NumpyDocString(custom_sum)\n",
    "docstring.render_md()"
   ]
  },
  {
   "cell_type": "code",
   "execution_count": null,
   "metadata": {},
   "outputs": [],
   "source": [
    "print(docstring.render_md(return_str=True))"
   ]
  }
 ],
 "metadata": {
  "kernelspec": {
   "display_name": "Python 3",
   "language": "python",
   "name": "python3"
  },
  "language_info": {
   "codemirror_mode": {
    "name": "ipython",
    "version": 3
   },
   "file_extension": ".py",
   "mimetype": "text/x-python",
   "name": "python",
   "nbconvert_exporter": "python",
   "pygments_lexer": "ipython3",
   "version": "3.7.6"
  }
 },
 "nbformat": 4,
 "nbformat_minor": 4
}