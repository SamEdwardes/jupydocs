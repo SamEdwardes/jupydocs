{
 "cells": [
  {
   "cell_type": "markdown",
   "metadata": {},
   "source": [
    "# jupydocs\n",
    "\n",
    "[![Netlify Status](https://api.netlify.com/api/v1/badges/6bc56cde-7bc0-492e-a357-7d2ca05004a3/deploy-status)](https://app.netlify.com/sites/jupydocs/deploys)\n",
    "\n",
    "The easiest way to document your python library with jupyter and markdown.\n",
    "\n",
    "- [GitHub](https://github.com/SamEdwardes/jupydocs)\n",
    "- [docs](https://jupydocs.netlify.app/)\n",
    "- [PyPi](https://pypi.org/project/jupydocs/)\n",
    "\n",
    "```\n",
    "Pleaes note jupydocs is currently under active development. \n",
    "It can be used for testing, but should not be used for deployment. \n",
    "It will change!\n",
    "```\n",
    "\n",
    "\n",
    "## Installation\n",
    "\n",
    "```bash\n",
    "pip install jupydocs\n",
    "```"
   ]
  },
  {
   "cell_type": "code",
   "execution_count": null,
   "metadata": {},
   "outputs": [],
   "source": []
  }
 ],
 "metadata": {
  "kernelspec": {
   "display_name": "Python 3",
   "language": "python",
   "name": "python3"
  },
  "language_info": {
   "codemirror_mode": {
    "name": "ipython",
    "version": 3
   },
   "file_extension": ".py",
   "mimetype": "text/x-python",
   "name": "python",
   "nbconvert_exporter": "python",
   "pygments_lexer": "ipython3",
   "version": "3.7.6"
  }
 },
 "nbformat": 4,
 "nbformat_minor": 4
}
