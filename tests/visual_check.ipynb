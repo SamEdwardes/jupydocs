{
 "cells": [
  {
   "cell_type": "code",
   "execution_count": 1,
   "metadata": {},
   "outputs": [],
   "source": [
    "from jupydocs.numpydocstring import NumpyDocString, render_class\n",
    "from jupydocs.example_numpy_docstrings import (function_with_types_in_docstring,\n",
    "                                        function_with_pep484_type_annotations,\n",
    "                                        module_level_function,\n",
    "                                        example_generator,\n",
    "                                        ExampleClass, \n",
    "                                        ExampleError)"
   ]
  },
  {
   "cell_type": "code",
   "execution_count": 2,
   "metadata": {},
   "outputs": [
    {
     "data": {
      "text/markdown": [
       "# function_with_types_in_docstring\n",
       "\n",
       "Example function with types documented in the docstring. \n",
       "\n",
       "`PEP 484`_ type annotations are supported. If attribute, parameter, and return types are annotated according to `PEP 484`_, they do not need to be included in the docstring:\n",
       "\n",
       "## Parameters\n",
       "\n",
       "| NAME   | TYPE   | DESCRIPTION           |\n",
       "|:-------|:-------|:----------------------|\n",
       "| param1 | int    | The first parameter.  |\n",
       "| param2 | str    | The second parameter. |\n",
       "\n",
       "## Returns\n",
       "\n",
       "| TYPE   | DESCRIPTION                                                                                                            |\n",
       "|:-------|:-----------------------------------------------------------------------------------------------------------------------|\n",
       "| bool   | True if successful, False otherwise. <br><br> .. _PEP 484: https://www.python.org/dev/peps/pep-0484/ <br><br> <br><br> |"
      ],
      "text/plain": [
       "<IPython.core.display.Markdown object>"
      ]
     },
     "execution_count": 2,
     "metadata": {},
     "output_type": "execute_result"
    }
   ],
   "source": [
    "docstring = NumpyDocString(function_with_types_in_docstring)\n",
    "docstring.render_md()"
   ]
  },
  {
   "cell_type": "code",
   "execution_count": 3,
   "metadata": {},
   "outputs": [
    {
     "data": {
      "text/markdown": [
       "# module_level_function\n",
       "\n",
       "This is an example of a module level function. \n",
       "\n",
       "Function parameters should be documented in the ``Parameters`` section. The name of each parameter is required. The type and description of each parameter is optional, but should be included if not obvious. \n",
       "\n",
       "If \\*args or \\*\\*kwargs are accepted, they should be listed as ``*args`` and ``**kwargs``. \n",
       "\n",
       "The format for a parameter is:: \n",
       "\n",
       "name : type description \n",
       "\n",
       "The description may span multiple lines. Following lines should be indented to match the first line of the description. The \": type\" is optional. \n",
       "\n",
       "Multiple paragraphs are supported in parameter descriptions.\n",
       "\n",
       "## Parameters\n",
       "\n",
       "| NAME   | TYPE                 | DESCRIPTION                                                                                      |\n",
       "|:-------|:---------------------|:-------------------------------------------------------------------------------------------------|\n",
       "| param1 | int                  | The first parameter.                                                                             |\n",
       "| param2 | :obj:`str`, optional | The second parameter. *args Variable length argument list. **kwargs Arbitrary keyword arguments. |\n",
       "\n",
       "## Returns\n",
       "\n",
       "| TYPE   | DESCRIPTION                                                                                                                                                                                                                                                                                                                                                                         |\n",
       "|:-------|:------------------------------------------------------------------------------------------------------------------------------------------------------------------------------------------------------------------------------------------------------------------------------------------------------------------------------------------------------------------------------------|\n",
       "| bool   | True if successful, False otherwise. <br><br> The return type is not optional. The ``Returns`` section may span multiple lines and paragraphs. Following lines should be indented to match the first line of the description. <br><br> The ``Returns`` section supports any reStructuredText formatting, including literal blocks:: <br><br> { 'param1': param1, 'param2': param2 } |\n",
       "\n",
       "## Raises\n",
       "\n",
       "AttributeError\n",
       "The ``Raises`` section is a list of all exceptions\n",
       "that are relevant to the interface.\n",
       "ValueError\n",
       "If `param2` is equal to `param1`.\n",
       "\n",
       "\n",
       "```\n"
      ],
      "text/plain": [
       "<IPython.core.display.Markdown object>"
      ]
     },
     "execution_count": 3,
     "metadata": {},
     "output_type": "execute_result"
    }
   ],
   "source": [
    "docstring = NumpyDocString(module_level_function)\n",
    "docstring.render_md()"
   ]
  },
  {
   "cell_type": "code",
   "execution_count": 4,
   "metadata": {},
   "outputs": [
    {
     "data": {
      "text/markdown": [
       "# example_generator\n",
       "\n",
       "Generators have a ``Yields`` section instead of a ``Returns`` section.\n",
       "\n",
       "## Parameters\n",
       "\n",
       "| NAME   | TYPE   | DESCRIPTION                                                  |\n",
       "|:-------|:-------|:-------------------------------------------------------------|\n",
       "| n      | int    | The upper limit of the range to generate, from 0 to `n` - 1. |\n",
       "\n",
       "## Examples\n",
       "\n",
       "Examples should be written in doctest format, and should illustrate how\n",
       "to use the function.\n",
       "\n",
       "```python\n",
       ">>> print([i for i in example_generator(4)])\n",
       "[0, 1, 2, 3]\n",
       "\n",
       "```\n",
       "\n",
       "\n",
       "```\n",
       "\n",
       "\n",
       "## Yields\n",
       "\n",
       "| TYPE   | DESCRIPTION                                   |\n",
       "|:-------|:----------------------------------------------|\n",
       "| int    | The next number in the range of 0 to `n` - 1. |"
      ],
      "text/plain": [
       "<IPython.core.display.Markdown object>"
      ]
     },
     "execution_count": 4,
     "metadata": {},
     "output_type": "execute_result"
    }
   ],
   "source": [
    "docstring = NumpyDocString(example_generator)\n",
    "docstring.render_md()"
   ]
  },
  {
   "cell_type": "code",
   "execution_count": 5,
   "metadata": {},
   "outputs": [
    {
     "data": {
      "text/markdown": [
       "# ExampleError\n",
       "\n",
       "Exceptions are documented in the same way as classes. \n",
       "\n",
       "The __init__ method may be documented in either the class level docstring, or as a docstring on the __init__ method itself. \n",
       "\n",
       "Either form is acceptable, but the two should not be mixed. Choose one convention to document the __init__ method and be consistent with it.\n",
       "\n",
       "## Parameters\n",
       "\n",
       "| NAME   | TYPE                 | DESCRIPTION                                     |\n",
       "|:-------|:---------------------|:------------------------------------------------|\n",
       "| msg    | str                  | Human readable string describing the exception. |\n",
       "| code   | :obj:`int`, optional | Numeric error code.                             |\n",
       "\n",
       "## Attributes\n",
       "\n",
       "| NAME   | TYPE   | DESCRIPTION                                     |\n",
       "|:-------|:-------|:------------------------------------------------|\n",
       "| msg    | str    | Human readable string describing the exception. |\n",
       "| code   | int    | Numeric error code. <br><br> <br><br>           |\n",
       "\n",
       "## Note\n",
       "\n",
       "Do not include the `self` parameter in the ``Parameters`` section.\n",
       "```\n"
      ],
      "text/plain": [
       "<IPython.core.display.Markdown object>"
      ]
     },
     "execution_count": 5,
     "metadata": {},
     "output_type": "execute_result"
    }
   ],
   "source": [
    "docstring = NumpyDocString(ExampleError)\n",
    "docstring.render_md()"
   ]
  },
  {
   "cell_type": "code",
   "execution_count": 6,
   "metadata": {},
   "outputs": [
    {
     "data": {
      "text/markdown": [
       "# ExampleClass\n",
       "\n",
       "The summary line for a class docstring should fit on one line. \n",
       "\n",
       "If the class has public attributes, they may be documented here in an ``Attributes`` section and follow the same formatting as a function's ``Args`` section. Alternatively, attributes may be documented inline with the attribute's declaration (see __init__ method below). \n",
       "\n",
       "Properties created with the ``@property`` decorator should be documented in the property's getter method.\n",
       "\n",
       "## Attributes\n",
       "\n",
       "| NAME   | TYPE                 | DESCRIPTION                               |\n",
       "|:-------|:---------------------|:------------------------------------------|\n",
       "| attr1  | str                  | Description of `attr1`.                   |\n",
       "| attr2  | :obj:`int`, optional | Description of `attr2`. <br><br> <br><br> |"
      ],
      "text/plain": [
       "<IPython.core.display.Markdown object>"
      ]
     },
     "execution_count": 6,
     "metadata": {},
     "output_type": "execute_result"
    }
   ],
   "source": [
    "docstring = NumpyDocString(ExampleClass)\n",
    "docstring.render_md()"
   ]
  },
  {
   "cell_type": "code",
   "execution_count": 7,
   "metadata": {},
   "outputs": [
    {
     "data": {
      "text/markdown": [
       "### __init__\n",
       "\n",
       "Example of docstring on the __init__ method. \n",
       "\n",
       "The __init__ method may be documented in either the class level docstring, or as a docstring on the __init__ method itself. \n",
       "\n",
       "Either form is acceptable, but the two should not be mixed. Choose one convention to document the __init__ method and be consistent with it.\n",
       "\n",
       "#### Parameters\n",
       "\n",
       "| NAME   | TYPE                      | DESCRIPTION                                            |\n",
       "|:-------|:--------------------------|:-------------------------------------------------------|\n",
       "| param1 | str                       | Description of `param1`.                               |\n",
       "| param2 | :obj:`list` of :obj:`str` | Description of `param2`. Multiple lines are supported. |\n",
       "| param3 | :obj:`int`, optional      | Description of `param3`. <br><br> <br><br>             |\n",
       "\n",
       "#### Note\n",
       "\n",
       "Do not include the `self` parameter in the ``Parameters`` section.\n",
       "```\n"
      ],
      "text/plain": [
       "<IPython.core.display.Markdown object>"
      ]
     },
     "execution_count": 7,
     "metadata": {},
     "output_type": "execute_result"
    }
   ],
   "source": [
    "docstring = NumpyDocString(ExampleClass.__init__, header_level='####')\n",
    "docstring.render_md()"
   ]
  },
  {
   "cell_type": "code",
   "execution_count": 8,
   "metadata": {},
   "outputs": [
    {
     "data": {
      "text/plain": [
       "['__class__',\n",
       " '__delattr__',\n",
       " '__dir__',\n",
       " '__eq__',\n",
       " '__format__',\n",
       " '__ge__',\n",
       " '__getattribute__',\n",
       " '__gt__',\n",
       " '__hash__',\n",
       " '__init__',\n",
       " '__init_subclass__',\n",
       " '__le__',\n",
       " '__lt__',\n",
       " '__ne__',\n",
       " '__new__',\n",
       " '__reduce__',\n",
       " '__reduce_ex__',\n",
       " '__repr__',\n",
       " '__setattr__',\n",
       " '__sizeof__',\n",
       " '__str__',\n",
       " '__subclasshook__',\n",
       " 'find_section',\n",
       " 'parse_code_blocks',\n",
       " 'parse_description',\n",
       " 'parse_generic',\n",
       " 'parse_parameters',\n",
       " 'parse_returns',\n",
       " 'render_md']"
      ]
     },
     "execution_count": 8,
     "metadata": {},
     "output_type": "execute_result"
    }
   ],
   "source": [
    "[func for func in dir(NumpyDocString) if callable(getattr(NumpyDocString, func))]"
   ]
  },
  {
   "cell_type": "code",
   "execution_count": 9,
   "metadata": {},
   "outputs": [],
   "source": [
    "# [NumpyDocString(func) for func in dir(NumpyDocString) if callable(getattr(NumpyDocString, func))]"
   ]
  },
  {
   "cell_type": "code",
   "execution_count": 10,
   "metadata": {},
   "outputs": [
    {
     "data": {
      "text/markdown": [
       "# render_md\n",
       "\n",
       "Render the docstring into a markdown format.\n",
       "\n",
       "## Parameters\n",
       "\n",
       "| NAME       | TYPE           | DESCRIPTION                                                         |\n",
       "|:-----------|:---------------|:--------------------------------------------------------------------|\n",
       "| return_str | bool, optional | If true will return a string instead of markdown, by default False. |\n",
       "\n",
       "## Returns\n",
       "\n",
       "| TYPE                            | DESCRIPTION                                                |\n",
       "|:--------------------------------|:-----------------------------------------------------------|\n",
       "| IPython.display.Markdown or str | The docstring rendered into markdown or a string. <br><br> |"
      ],
      "text/plain": [
       "<IPython.core.display.Markdown object>"
      ]
     },
     "execution_count": 10,
     "metadata": {},
     "output_type": "execute_result"
    }
   ],
   "source": [
    "docstring = NumpyDocString(getattr(NumpyDocString, 'render_md'))\n",
    "docstring.render_md()"
   ]
  },
  {
   "cell_type": "code",
   "execution_count": 11,
   "metadata": {},
   "outputs": [
    {
     "data": {
      "text/plain": [
       "'render_md'"
      ]
     },
     "execution_count": 11,
     "metadata": {},
     "output_type": "execute_result"
    }
   ],
   "source": [
    "getattr(NumpyDocString, 'render_md').__name__"
   ]
  },
  {
   "cell_type": "code",
   "execution_count": 12,
   "metadata": {},
   "outputs": [
    {
     "data": {
      "text/plain": [
       "['__class__',\n",
       " '__delattr__',\n",
       " '__dict__',\n",
       " '__dir__',\n",
       " '__doc__',\n",
       " '__eq__',\n",
       " '__format__',\n",
       " '__ge__',\n",
       " '__getattribute__',\n",
       " '__gt__',\n",
       " '__hash__',\n",
       " '__init__',\n",
       " '__init_subclass__',\n",
       " '__le__',\n",
       " '__lt__',\n",
       " '__module__',\n",
       " '__ne__',\n",
       " '__new__',\n",
       " '__reduce__',\n",
       " '__reduce_ex__',\n",
       " '__repr__',\n",
       " '__setattr__',\n",
       " '__sizeof__',\n",
       " '__special__',\n",
       " '__special_without_docstring__',\n",
       " '__str__',\n",
       " '__subclasshook__',\n",
       " '__weakref__',\n",
       " '_private',\n",
       " '_private_without_docstring',\n",
       " 'example_method',\n",
       " 'readonly_property',\n",
       " 'readwrite_property']"
      ]
     },
     "execution_count": 12,
     "metadata": {},
     "output_type": "execute_result"
    }
   ],
   "source": [
    "dir(ExampleClass)"
   ]
  },
  {
   "cell_type": "code",
   "execution_count": 13,
   "metadata": {},
   "outputs": [
    {
     "data": {
      "text/markdown": [
       "# NumpyDocString\n",
       "\n",
       "Convert function docstrings into markdown documentation.\n",
       "\n",
       "## Parameters\n",
       "\n",
       "| NAME         | TYPE          | DESCRIPTION                                                    |\n",
       "|:-------------|:--------------|:---------------------------------------------------------------|\n",
       "| function     | function      | A python function that has been documented using numpy styling |\n",
       "| header_level | str, optional | [description], by default '##'                                 |\n",
       "\n",
       "## Attributes\n",
       "\n",
       "| NAME                | TYPE   | DESCRIPTION   |\n",
       "|:--------------------|:-------|:--------------|\n",
       "| function            | tbd    | tbd           |\n",
       "| function_name       | tbd    | tbd           |\n",
       "| docstring           | tbd    | tbd           |\n",
       "| numpy_section_regex | tbd    | tbd           |\n",
       "| docstring_split     | tbd    | tbd           |\n",
       "| header_level        | tbd    | tbd           |\n",
       "| description_        | tbd    | tbd           |\n",
       "| parameters_         | tbd    | tbd           |\n",
       "| attributes_         | tbd    | tbd           |\n",
       "| examples_           | tbd    | tbd           |\n",
       "| returns_            | tbd    | tbd           |\n",
       "| yields_             | tbd    | tbd           |\n",
       "| raises_             | tbd    | tbd           |\n",
       "| notes_              | tbd    | tbd           |\n",
       "| references_         | tbd    | tbd           |\n",
       "| keyword_arguments_  | tbd    | tbd           |\n",
       "| methods_            | tbd    | tbd           |\n",
       "| see_also_           | tbd    | tbd           |\n",
       "| todo_               | tbd    | tbd           |\n",
       "| warnings_           | tbd    | tbd           |\n",
       "\n",
       "## Examples\n",
       "\n",
       "\n",
       "# TODO: write some examples\n",
       "\n",
       "\n",
       "```\n",
       "\n",
       "\n",
       "## Methods\n",
       "\n",
       "render_md\n",
       "Render the docstring into markdown format. Uses\n",
       "`IPython.display.Markdown`\n",
       "```\n",
       "\n",
       "\n",
       "## find_section\n",
       "\n",
       "A helper function that finds the section of docstring\n",
       "\n",
       "### Parameters\n",
       "\n",
       "| NAME             | TYPE   | DESCRIPTION                                  |\n",
       "|:-----------------|:-------|:---------------------------------------------|\n",
       "| doc              | str    | The docstring to be parsed.                  |\n",
       "| section_keywords | list   | A list of keywords that identify the section |\n",
       "\n",
       "### Returns\n",
       "\n",
       "| TYPE       | DESCRIPTION                                                          |\n",
       "|:-----------|:---------------------------------------------------------------------|\n",
       "| (int, int) | A tuple with the start and end line of the desired section. <br><br> |\n",
       "\n",
       "## parse_code_blocks\n",
       "\n",
       "Identify and clean up code blocks.\n",
       "\n",
       "### Parameters\n",
       "\n",
       "| NAME   | TYPE   | DESCRIPTION                                                                            |\n",
       "|:-------|:-------|:---------------------------------------------------------------------------------------|\n",
       "| doc    | list   | The docstring in list format, where each item in the list is a line in the doc string. |\n",
       "\n",
       "### Returns\n",
       "\n",
       "| TYPE   | DESCRIPTION                                                                |\n",
       "|:-------|:---------------------------------------------------------------------------|\n",
       "| list   | The docstring with code strings formatted for markdown rendering. <br><br> |\n",
       "\n",
       "## parse_description\n",
       "\n",
       "Parse the description section of a docstring.\n",
       "\n",
       "### Returns\n",
       "\n",
       "| TYPE   | DESCRIPTION            |\n",
       "|:-------|:-----------------------|\n",
       "| [type] | [description] <br><br> |\n",
       "\n",
       "## parse_generic\n",
       "\n",
       "Parse generic sections\n",
       "\n",
       "### Parameters\n",
       "\n",
       "| NAME     | TYPE   | DESCRIPTION   |\n",
       "|:---------|:-------|:--------------|\n",
       "| keywords | [type] | [description] |\n",
       "\n",
       "### Returns\n",
       "\n",
       "| TYPE   | DESCRIPTION            |\n",
       "|:-------|:-----------------------|\n",
       "| [type] | [description] <br><br> |\n",
       "\n",
       "## parse_parameters\n",
       "\n",
       "Parse the paramters section of a docstring.\n",
       "\n",
       "### Parameters\n",
       "\n",
       "| NAME     | TYPE   | DESCRIPTION   |\n",
       "|:---------|:-------|:--------------|\n",
       "| keywords | [type] | [description] |\n",
       "\n",
       "### Returns\n",
       "\n",
       "| TYPE   | DESCRIPTION            |\n",
       "|:-------|:-----------------------|\n",
       "| [type] | [description] <br><br> |\n",
       "\n",
       "## parse_returns\n",
       "\n",
       "Parse the return section of a docstring\n",
       "\n",
       "### Parameters\n",
       "\n",
       "| NAME     | TYPE   | DESCRIPTION   |\n",
       "|:---------|:-------|:--------------|\n",
       "| keywords | [type] | [description] |\n",
       "\n",
       "### Returns\n",
       "\n",
       "| TYPE   | DESCRIPTION            |\n",
       "|:-------|:-----------------------|\n",
       "| [type] | [description] <br><br> |\n",
       "\n",
       "## render_md\n",
       "\n",
       "Render the docstring into a markdown format.\n",
       "\n",
       "### Parameters\n",
       "\n",
       "| NAME       | TYPE           | DESCRIPTION                                                         |\n",
       "|:-----------|:---------------|:--------------------------------------------------------------------|\n",
       "| return_str | bool, optional | If true will return a string instead of markdown, by default False. |\n",
       "\n",
       "### Returns\n",
       "\n",
       "| TYPE                            | DESCRIPTION                                                |\n",
       "|:--------------------------------|:-----------------------------------------------------------|\n",
       "| IPython.display.Markdown or str | The docstring rendered into markdown or a string. <br><br> |"
      ],
      "text/plain": [
       "<IPython.core.display.Markdown object>"
      ]
     },
     "execution_count": 13,
     "metadata": {},
     "output_type": "execute_result"
    }
   ],
   "source": [
    "render_class(NumpyDocString)"
   ]
  },
  {
   "cell_type": "code",
   "execution_count": null,
   "metadata": {},
   "outputs": [],
   "source": []
  },
  {
   "cell_type": "code",
   "execution_count": null,
   "metadata": {},
   "outputs": [],
   "source": []
  }
 ],
 "metadata": {
  "kernelspec": {
   "display_name": "Python 3",
   "language": "python",
   "name": "python3"
  },
  "language_info": {
   "codemirror_mode": {
    "name": "ipython",
    "version": 3
   },
   "file_extension": ".py",
   "mimetype": "text/x-python",
   "name": "python",
   "nbconvert_exporter": "python",
   "pygments_lexer": "ipython3",
   "version": "3.7.6"
  }
 },
 "nbformat": 4,
 "nbformat_minor": 4
}
