{
 "cells": [
  {
   "cell_type": "raw",
   "metadata": {},
   "source": [
    "---\n",
    "id: numpydocstring.render_class\n",
    "title: numpydocstring.render_class\n",
    "---"
   ]
  },
  {
   "cell_type": "code",
   "execution_count": 3,
   "metadata": {},
   "outputs": [],
   "source": [
    "from jupydocs.numpydocstring import NumpyDocString, render_class"
   ]
  },
  {
   "cell_type": "code",
   "execution_count": 5,
   "metadata": {},
   "outputs": [
    {
     "data": {
      "text/markdown": [
       "## render_class\n",
       "\n",
       "Render an entire class into docstring markdown format\n",
       "\n",
       "### Parameters\n",
       "\n",
       "| NAME       | TYPE           | DESCRIPTION                                                         |\n",
       "|:-----------|:---------------|:--------------------------------------------------------------------|\n",
       "| obj        | Class          | A python class object                                               |\n",
       "| return_str | bool, optional | If true will return a string instead of markdown, by default False. |\n",
       "\n",
       "### Returns\n",
       "\n",
       "| TYPE                            | DESCRIPTION                                       |\n",
       "|:--------------------------------|:--------------------------------------------------|\n",
       "| IPython.display.Markdown or str | The docstring rendered into markdown or a string. |"
      ],
      "text/plain": [
       "<IPython.core.display.Markdown object>"
      ]
     },
     "execution_count": 5,
     "metadata": {},
     "output_type": "execute_result"
    }
   ],
   "source": [
    "NumpyDocString(render_class).render_md() #"
   ]
  }
 ],
 "metadata": {
  "kernelspec": {
   "display_name": "Python 3",
   "language": "python",
   "name": "python3"
  },
  "language_info": {
   "codemirror_mode": {
    "name": "ipython",
    "version": 3
   },
   "file_extension": ".py",
   "mimetype": "text/x-python",
   "name": "python",
   "nbconvert_exporter": "python",
   "pygments_lexer": "ipython3",
   "version": "3.7.9"
  }
 },
 "nbformat": 4,
 "nbformat_minor": 4
}
