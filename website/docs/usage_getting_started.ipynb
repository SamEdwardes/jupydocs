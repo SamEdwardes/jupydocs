{
 "cells": [
  {
   "cell_type": "raw",
   "metadata": {},
   "source": [
    "---\n",
    "id: getting_started\n",
    "title: Getting Started\n",
    "slug: /\n",
    "---"
   ]
  },
  {
   "cell_type": "markdown",
   "metadata": {},
   "source": [
    "## Installation"
   ]
  },
  {
   "cell_type": "markdown",
   "metadata": {},
   "source": [
    "jupycdocs can be downloaded from [PyPi](https://pypi.org/project/jupydocs/).\n",
    "\n",
    "```bash\n",
    "pip install jupydocs\n",
    "```"
   ]
  },
  {
   "cell_type": "markdown",
   "metadata": {},
   "source": [
    "## Quick Start"
   ]
  },
  {
   "cell_type": "code",
   "execution_count": 1,
   "metadata": {},
   "outputs": [],
   "source": [
    "from jupydocs.numpydocstring import NumpyDocString"
   ]
  },
  {
   "cell_type": "code",
   "execution_count": 2,
   "metadata": {},
   "outputs": [],
   "source": [
    "def silly_function(name):\n",
    "    \"\"\"\n",
    "    Parameters\n",
    "    ----------\n",
    "    name : str\n",
    "        The name of a person\n",
    "        \n",
    "        \n",
    "    Returns\n",
    "    -------\n",
    "    str\n",
    "        Let the person know they are silly!\n",
    "    \"\"\"\n",
    "    return(f'Hey {name}, you are silly!')"
   ]
  },
  {
   "cell_type": "code",
   "execution_count": 3,
   "metadata": {},
   "outputs": [
    {
     "data": {
      "text/markdown": [
       "## silly_function\n",
       "\n",
       "\n",
       "\n",
       "### Parameters\n",
       "\n",
       "| NAME   | TYPE   | DESCRIPTION                              |\n",
       "|:-------|:-------|:-----------------------------------------|\n",
       "| name   | str    | The name of a person <br></br> <br></br> |\n",
       "\n",
       "### Returns\n",
       "\n",
       "| TYPE   | DESCRIPTION                         |\n",
       "|:-------|:------------------------------------|\n",
       "| str    | Let the person know they are silly! |"
      ],
      "text/plain": [
       "<IPython.core.display.Markdown object>"
      ]
     },
     "execution_count": 3,
     "metadata": {},
     "output_type": "execute_result"
    }
   ],
   "source": [
    "NumpyDocString(silly_function).render_md()"
   ]
  }
 ],
 "metadata": {
  "kernelspec": {
   "display_name": "Python 3",
   "language": "python",
   "name": "python3"
  },
  "language_info": {
   "codemirror_mode": {
    "name": "ipython",
    "version": 3
   },
   "file_extension": ".py",
   "mimetype": "text/x-python",
   "name": "python",
   "nbconvert_exporter": "python",
   "pygments_lexer": "ipython3",
   "version": "3.7.6"
  }
 },
 "nbformat": 4,
 "nbformat_minor": 4
}
