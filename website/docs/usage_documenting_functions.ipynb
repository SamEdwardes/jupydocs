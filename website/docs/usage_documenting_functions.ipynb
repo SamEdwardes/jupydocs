{
 "cells": [
  {
   "cell_type": "raw",
   "metadata": {},
   "source": [
    "---\n",
    "id: documenting_functions\n",
    "title: Documenting Functions\n",
    "---"
   ]
  },
  {
   "cell_type": "markdown",
   "metadata": {},
   "source": [
    "jupydocs can be used to document any function that is compliant with numpy docstring standards (see [numpy docstring guide](https://numpydoc.readthedocs.io/en/latest/format.html)). \n",
    "\n",
    "To use jupydocs you pass your function into the `NumpyDocString` class, and then use the `render_md` function to output the markdown."
   ]
  },
  {
   "cell_type": "code",
   "execution_count": null,
   "metadata": {},
   "outputs": [],
   "source": [
    "from jupydocs.numpydocstring import NumpyDocString"
   ]
  },
  {
   "cell_type": "code",
   "execution_count": null,
   "metadata": {},
   "outputs": [],
   "source": [
    "def custom_sum(x, y):\n",
    "    \"\"\"A new take on the class `sum` function.\n",
    "    \n",
    "    Does 1 + 1 always need to equal 2? Not anymore! Thanks to the `custom_sum`\n",
    "    function 1 + 1 will never equal 2 again.\n",
    "\n",
    "    Parameters\n",
    "    ----------\n",
    "    x : float\n",
    "        A number.\n",
    "    y : float\n",
    "        A number.\n",
    "\n",
    "    Returns\n",
    "    -------\n",
    "    num : Float\n",
    "        x * 2 + y * 3\n",
    "        \n",
    "    Example\n",
    "    -------\n",
    "    >>> from examplepackage.example import custom_sum\n",
    "    >>> custom_sum(2, 3)\n",
    "    13\n",
    "    \n",
    "    See also\n",
    "    --------\n",
    "    You should normally use the regular python `sum` function. `custom_sum` is\n",
    "    almost never useful!\n",
    "    \n",
    "    \"\"\"\n",
    "    return x * 2 + y * 3"
   ]
  },
  {
   "cell_type": "code",
   "execution_count": null,
   "metadata": {},
   "outputs": [],
   "source": [
    "docstring = NumpyDocString(custom_sum)\n",
    "docstring.render_md()"
   ]
  },
  {
   "cell_type": "markdown",
   "metadata": {},
   "source": [
    "Below is an example of using jupydocs on a function from the [pandas library](https://pandas.pydata.org/pandas-docs/stable/reference/api/pandas.concat.html)."
   ]
  },
  {
   "cell_type": "code",
   "execution_count": null,
   "metadata": {},
   "outputs": [],
   "source": [
    "import pandas as pd\n",
    "df_docstring = NumpyDocString(pd.concat)\n",
    "df_docstring.render_md()"
   ]
  }
 ],
 "metadata": {
  "kernelspec": {
   "display_name": "Python 3",
   "language": "python",
   "name": "python3"
  },
  "language_info": {
   "codemirror_mode": {
    "name": "ipython",
    "version": 3
   },
   "file_extension": ".py",
   "mimetype": "text/x-python",
   "name": "python",
   "nbconvert_exporter": "python",
   "pygments_lexer": "ipython3",
   "version": "3.7.6"
  }
 },
 "nbformat": 4,
 "nbformat_minor": 4
}