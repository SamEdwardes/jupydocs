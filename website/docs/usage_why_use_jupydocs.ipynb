{
 "cells": [
  {
   "cell_type": "raw",
   "metadata": {},
   "source": [
    "---\n",
    "id: why_use_jupydocs\n",
    "title: Why use jupydocs?\n",
    "---"
   ]
  },
  {
   "cell_type": "markdown",
   "metadata": {},
   "source": [
    "There are already several very good tools that exist for documenting python packages. The most popular tool is [sphinx](https://www.sphinx-doc.org/en/master/). So what is wrong with sphinx? Nothing is wrong with sphinx... but jupydocs thinks that making documentation can be easier and more fun:\n",
    "\n",
    "- sphinx is complicated, you probably spend a lot of time reading the documentation of a documentation generator\n",
    "- sphinx uses `.rst`, but really everyone loves `.md`\n",
    "- sphinx is overkill (if you are pandas maybe it is not... but if you are a simple library without hundreds of functions it is overkill)"
   ]
  }
 ],
 "metadata": {
  "kernelspec": {
   "display_name": "Python 3",
   "language": "python",
   "name": "python3"
  },
  "language_info": {
   "codemirror_mode": {
    "name": "ipython",
    "version": 3
   },
   "file_extension": ".py",
   "mimetype": "text/x-python",
   "name": "python",
   "nbconvert_exporter": "python",
   "pygments_lexer": "ipython3",
   "version": "3.7.6"
  }
 },
 "nbformat": 4,
 "nbformat_minor": 4
}
