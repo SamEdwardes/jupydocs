{
 "cells": [
  {
   "cell_type": "raw",
   "metadata": {},
   "source": [
    "---\n",
    "id: module_numpydocstring\n",
    "title: numpydocstring module\n",
    "---"
   ]
  },
  {
   "cell_type": "code",
   "execution_count": null,
   "metadata": {},
   "outputs": [],
   "source": [
    "import os"
   ]
  },
  {
   "cell_type": "code",
   "execution_count": 2,
   "metadata": {},
   "outputs": [],
   "source": [
    "from jupydocs.numpydocstring import NumpyDocString, render_class"
   ]
  },
  {
   "cell_type": "markdown",
   "metadata": {},
   "source": [
    "Currently jupydocs works only with numpy doc strings. At this time some numpydoc strings may not work as expected because the library is still under development.\n",
    "\n",
    "All markdown documentation below was generated using jupydocs."
   ]
  },
  {
   "cell_type": "code",
   "execution_count": 3,
   "metadata": {},
   "outputs": [
    {
     "data": {
      "text/markdown": [
       "## NumpyDocString\n",
       "\n",
       "Convert function docstrings into markdown documentation.\n",
       "\n",
       "### Parameters\n",
       "\n",
       "| NAME         | TYPE          | DESCRIPTION                                                    |\n",
       "|:-------------|:--------------|:---------------------------------------------------------------|\n",
       "| function     | function      | A python function that has been documented using numpy styling |\n",
       "| header_level | str, optional | [description], by default '##' <br></br>                       |\n",
       "\n",
       "### Attributes\n",
       "\n",
       "| NAME                | TYPE   | DESCRIPTION   |\n",
       "|:--------------------|:-------|:--------------|\n",
       "| doc_index_          | list   | TBD           |\n",
       "| description_        | tbd    | tbd           |\n",
       "| function            | tbd    | tbd           |\n",
       "| function_name       | tbd    | tbd           |\n",
       "| docstring           | tbd    | tbd           |\n",
       "| numpy_section_regex | tbd    | tbd           |\n",
       "| docstring_split     | tbd    | tbd           |\n",
       "| header_level        | tbd    | tbd <br></br> |\n",
       "\n",
       "### Methods\n",
       "\n",
       "Work in progress\n",
       "\n",
       "\n",
       "### Examples\n",
       "\n",
       "Work in progress"
      ],
      "text/plain": [
       "<IPython.core.display.Markdown object>"
      ]
     },
     "execution_count": 3,
     "metadata": {},
     "output_type": "execute_result"
    }
   ],
   "source": [
    "NumpyDocString(NumpyDocString).render_md()"
   ]
  },
  {
   "cell_type": "markdown",
   "metadata": {},
   "source": [
    "## NumpyDocString methods"
   ]
  },
  {
   "cell_type": "code",
   "execution_count": 4,
   "metadata": {},
   "outputs": [
    {
     "data": {
      "text/markdown": [
       "### create_doc_index\n",
       "\n",
       "Create an index of the docstring.\n",
       "\n",
       "#### Returns\n",
       "\n",
       "| TYPE   | DESCRIPTION                                                                                          |\n",
       "|:-------|:-----------------------------------------------------------------------------------------------------|\n",
       "| list   | A list of tuples, where each item in the list is a tuple with: (section_name, start_line, end_line). |\n",
       "\n",
       "### find_section\n",
       "\n",
       "A helper function that finds the section of docstring\n",
       "\n",
       "#### Parameters\n",
       "\n",
       "| NAME             | TYPE   | DESCRIPTION                                            |\n",
       "|:-----------------|:-------|:-------------------------------------------------------|\n",
       "| doc              | str    | The docstring to be parsed.                            |\n",
       "| section_keywords | list   | A list of keywords that identify the section <br></br> |\n",
       "\n",
       "#### Returns\n",
       "\n",
       "| TYPE       | DESCRIPTION                                                 |\n",
       "|:-----------|:------------------------------------------------------------|\n",
       "| (int, int) | A tuple with the start and end line of the desired section. |\n",
       "\n",
       "### parse_code_blocks\n",
       "\n",
       "Identify and clean up code blocks.\n",
       "\n",
       "#### Parameters\n",
       "\n",
       "| NAME   | TYPE   | DESCRIPTION                                                                                      |\n",
       "|:-------|:-------|:-------------------------------------------------------------------------------------------------|\n",
       "| doc    | list   | The docstring in list format, where each item in the list is a line in the doc string. <br></br> |\n",
       "\n",
       "#### Returns\n",
       "\n",
       "| TYPE   | DESCRIPTION                                                       |\n",
       "|:-------|:------------------------------------------------------------------|\n",
       "| list   | The docstring with code strings formatted for markdown rendering. |\n",
       "\n",
       "### parse_description\n",
       "\n",
       "Parse the description section of a docstring.\n",
       "\n",
       "#### Returns\n",
       "\n",
       "| TYPE   | DESCRIPTION   |\n",
       "|:-------|:--------------|\n",
       "| [type] | [description] |\n",
       "\n",
       "### parse_generic\n",
       "\n",
       "Parse generic sections\n",
       "\n",
       "#### Parameters\n",
       "\n",
       "| NAME     | TYPE   | DESCRIPTION             |\n",
       "|:---------|:-------|:------------------------|\n",
       "| keywords | [type] | [description] <br></br> |\n",
       "\n",
       "#### Returns\n",
       "\n",
       "| TYPE   | DESCRIPTION   |\n",
       "|:-------|:--------------|\n",
       "| [type] | [description] |\n",
       "\n",
       "### parse_parameters\n",
       "\n",
       "Parse the paramters section of a docstring.\n",
       "\n",
       "#### Parameters\n",
       "\n",
       "| NAME     | TYPE   | DESCRIPTION             |\n",
       "|:---------|:-------|:------------------------|\n",
       "| keywords | [type] | [description] <br></br> |\n",
       "\n",
       "#### Returns\n",
       "\n",
       "| TYPE   | DESCRIPTION   |\n",
       "|:-------|:--------------|\n",
       "| [type] | [description] |\n",
       "\n",
       "### parse_returns\n",
       "\n",
       "Parse the return section of a docstring\n",
       "\n",
       "#### Parameters\n",
       "\n",
       "| NAME     | TYPE   | DESCRIPTION             |\n",
       "|:---------|:-------|:------------------------|\n",
       "| keywords | [type] | [description] <br></br> |\n",
       "\n",
       "#### Returns\n",
       "\n",
       "| TYPE   | DESCRIPTION   |\n",
       "|:-------|:--------------|\n",
       "| [type] | [description] |\n",
       "\n",
       "### render_md\n",
       "\n",
       "Render the docstring into a markdown format.\n",
       "\n",
       "#### Parameters\n",
       "\n",
       "| NAME       | TYPE           | DESCRIPTION                                                                   |\n",
       "|:-----------|:---------------|:------------------------------------------------------------------------------|\n",
       "| return_str | bool, optional | If true will return a string instead of markdown, by default False. <br></br> |\n",
       "\n",
       "#### Returns\n",
       "\n",
       "| TYPE                            | DESCRIPTION                                       |\n",
       "|:--------------------------------|:--------------------------------------------------|\n",
       "| IPython.display.Markdown or str | The docstring rendered into markdown or a string. |"
      ],
      "text/plain": [
       "<IPython.core.display.Markdown object>"
      ]
     },
     "execution_count": 4,
     "metadata": {},
     "output_type": "execute_result"
    }
   ],
   "source": [
    "render_class(NumpyDocString, render_class_doc_string=False, render_init=False)"
   ]
  },
  {
   "cell_type": "code",
   "execution_count": 5,
   "metadata": {},
   "outputs": [
    {
     "data": {
      "text/markdown": [
       "## render_class\n",
       "\n",
       "Render an entire class into docstring markdown format\n",
       "\n",
       "### Parameters\n",
       "\n",
       "| NAME       | TYPE           | DESCRIPTION                                                                   |\n",
       "|:-----------|:---------------|:------------------------------------------------------------------------------|\n",
       "| obj        | Class          | A python class object                                                         |\n",
       "| return_str | bool, optional | If true will return a string instead of markdown, by default False. <br></br> |\n",
       "\n",
       "### Returns\n",
       "\n",
       "| TYPE                            | DESCRIPTION                                       |\n",
       "|:--------------------------------|:--------------------------------------------------|\n",
       "| IPython.display.Markdown or str | The docstring rendered into markdown or a string. |"
      ],
      "text/plain": [
       "<IPython.core.display.Markdown object>"
      ]
     },
     "execution_count": 5,
     "metadata": {},
     "output_type": "execute_result"
    }
   ],
   "source": [
    "NumpyDocString(render_class, '###').render_md()"
   ]
  }
 ],
 "metadata": {
  "kernelspec": {
   "display_name": "Python 3",
   "language": "python",
   "name": "python3"
  },
  "language_info": {
   "codemirror_mode": {
    "name": "ipython",
    "version": 3
   },
   "file_extension": ".py",
   "mimetype": "text/x-python",
   "name": "python",
   "nbconvert_exporter": "python",
   "pygments_lexer": "ipython3",
   "version": "3.7.6"
  }
 },
 "nbformat": 4,
 "nbformat_minor": 4
}
