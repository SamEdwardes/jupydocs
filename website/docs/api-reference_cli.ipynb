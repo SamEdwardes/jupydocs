{
 "cells": [
  {
   "cell_type": "raw",
   "metadata": {},
   "source": [
    "---\n",
    "id: cli\n",
    "title: Command line interface\n",
    "---"
   ]
  },
  {
   "cell_type": "markdown",
   "metadata": {},
   "source": [
    "jupydocs comes with a command line interface (CLI) to help quickly build and render your `.ipynb` files into `.md` files. The CLI was inpired by the [spaCy](https://spacy.io/api/cli) CLI tool."
   ]
  },
  {
   "cell_type": "markdown",
   "metadata": {},
   "source": [
    "## Build\n",
    "\n",
    "### Arguments\n",
    "\n",
    "| Argument           | Type       | Description                                                  |\n",
    "| ------------------ | ---------- | ------------------------------------------------------------ |\n",
    "| `directories`      | positional | The directory to search for .ipynb files. The relative path to .ipynb file can also be provided, in which case only that single  file will be converted. By default '.' (current working directory). |\n",
    "| `--walk`, `w`      | flag       | If flag is included `build` will search the provided directory and all subdirectories for .ipynb files. |\n",
    "| `--old`, `-o`      | flag       | If flag is included `build` will render all found .ipynb files even if no changes have occurred since the last build. |\n",
    "| `--no-input`, `-n` | option     | Specify if the markdown files should be rendered with or without the input code cells. Use 'i' to include the input or 'n' to not include the input. If multiple files are provided you can provide multiple characters matching the order of the file to convert. For example if you pass two .ipynb files to be converted you could include input for the first and not the second by passing 'in'. |\n",
    "\n",
    "\n",
    "### Examples\n",
    "\n",
    "(1) run on all changed .ipynb files in current working directory.\n",
    "```bash\n",
    "python -m jupydocs build .\n",
    "```\n",
    "\n",
    "(2) run on all changed .ipynb files in current working directory and\n",
    "child directories.\n",
    "```bash\n",
    "python -m jupydocs build . --walk\n",
    "```\n",
    "\n",
    "(3) run on all .ipynb files in current working directory and child\n",
    "directories including files that have not been changed since the last build.\n",
    "```bash\n",
    "python -m jupydocs build . --walk --old\n",
    "```\n",
    "\n",
    "(4) run on two specified files and do not include any input code.\n",
    "```bash\n",
    "python -m jupydocs build --no-input n \\\n",
    "    README.ipynb \\\n",
    "    website/docs/usage_getting_started.ipynb\n",
    "```\n",
    "\n",
    "(5) run on two specified files and do not include any input code for the\n",
    "first file but do include for the second file\n",
    "```bash\n",
    "python -m jupydocs build --no-input ni \\\n",
    "    README.ipynb \\\n",
    "    website/docs/usage_getting_started.ipynb\n",
    "```\n",
    "\n",
    "(6) run on all .ipynb files in the current working directory including\n",
    "files that have not been changed since the last build\n",
    "```bash\n",
    "python -m jupydocs build . --old\n",
    "```"
   ]
  }
 ],
 "metadata": {
  "kernelspec": {
   "display_name": "Python 3",
   "language": "python",
   "name": "python3"
  },
  "language_info": {
   "codemirror_mode": {
    "name": "ipython",
    "version": 3
   },
   "file_extension": ".py",
   "mimetype": "text/x-python",
   "name": "python",
   "nbconvert_exporter": "python",
   "pygments_lexer": "ipython3",
   "version": "3.7.9"
  }
 },
 "nbformat": 4,
 "nbformat_minor": 4
}
